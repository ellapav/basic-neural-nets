{
 "cells": [
  {
   "cell_type": "code",
   "execution_count": 1,
   "metadata": {},
   "outputs": [],
   "source": [
    "import tensorflow as tf\n",
    "import tensorflow.compat.v1 as tfc # needed if using Tensorflow v2, then tfc is v1\n",
    "# https://stackoverflow.com/questions/53429896/how-do-i-disable-tensorflows-eager-execution\n",
    "tfc.disable_eager_execution() # eager execution enabled by default in Tensorflow v2\n",
    "import matplotlib\n",
    "import matplotlib.pyplot as plt\n",
    "import sklearn\n",
    "from scipy.optimize import minimize\n",
    "import numpy as np"
   ]
  },
  {
   "cell_type": "markdown",
   "metadata": {},
   "source": [
    "We consider the data of people applying for credit cards, and a banker has placed them in one of the following categories:\n",
    "\n",
    "    Approved (1)\n",
    "    \n",
    "    Denied (-1)\n",
    "    \n",
    "Each data point has 16 associated features (found in credit_data.csv) and a corresponding label (found in credit_label.csv).\n",
    "(# data = m = 653, # features = n = 16)\n",
    "\n",
    "We consider the data for two cases: data is unchanged, and data is normalized by the maximum value of each feature. "
   ]
  },
  {
   "cell_type": "code",
   "execution_count": 2,
   "metadata": {},
   "outputs": [],
   "source": [
    "# Import data\n",
    "# https://realpython.com/python-csv/\n",
    "credit_data = np.loadtxt(open(\"credit_data.csv\", \"rb\"), delimiter=\",\", skiprows=1)\n",
    "credit_label = np.loadtxt(open(\"credit_label.csv\", \"rb\"), delimiter=\",\", skiprows=1)\n",
    "\n",
    "#designate training data\n",
    "training_data = credit_data[0:500, :]\n",
    "training_label = np.zeros([500,2])\n",
    "#make one-hot labels (i.e. approved ~ [1,0], denied ~ [0,1])\n",
    "for i in range(500):\n",
    "    if credit_label[i]==1:\n",
    "        training_label[i] = np.array([1,0])\n",
    "    else:\n",
    "        training_label[i] = np.array([0,1])\n",
    "\n",
    "#designate testing data\n",
    "test_data = credit_data[500:653, :]\n",
    "test_label = np.zeros([153,2])\n",
    "#make one-hot labels (i.e. approved ~ [1,0], denied ~ [0,1])\n",
    "for i in range(153):\n",
    "    if credit_label[i]==1:\n",
    "        test_label[i] = np.array([1,0])\n",
    "    else:\n",
    "        test_label[i] = np.array([0,1])\n"
   ]
  },
  {
   "cell_type": "markdown",
   "metadata": {},
   "source": [
    "Functions we'll need:"
   ]
  },
  {
   "cell_type": "code",
   "execution_count": 3,
   "metadata": {},
   "outputs": [],
   "source": [
    "#define important functions\n",
    "# Initializing the weights and biases to be randomly selected from a normal distribution with mean zero and standard deviation 1\n",
    "# These have slightly positive initial bias to break symmetry\n",
    "def weight_variable(shape):\n",
    "    initial = tfc.random_normal(shape=shape, mean=0.0, stddev=1.0)\n",
    "    return tfc.Variable(initial)\n",
    "\n",
    "def bias_variable(neurons):\n",
    "    initial = tfc.random_normal(shape = neurons, mean = 0.0, stddev = 1.0)\n",
    "    return tfc.Variable(initial)\n",
    "\n",
    "# https://stackoverflow.com/questions/40994583/how-to-implement-tensorflows-next-batch-for-own-data\n",
    "# Return a total of `num` random samples and labels. \n",
    "# makes sure Net isn't dependent on ordering of points\n",
    "def next_batch(num, data, labels):\n",
    "    idx = np.arange(0 , np.shape(data)[0])\n",
    "    np.random.shuffle(idx)\n",
    "    idx = idx[:num]\n",
    "    data_shuffle = [data[i,:] for i in idx]\n",
    "    labels_shuffle = [labels[i,:] for i in idx]\n",
    "    \n",
    "    return np.asarray(data_shuffle), np.asarray(labels_shuffle)\n",
    "\n",
    "\n",
    "# # Choose 5 random samples\n",
    "# Xtr, Ytr = next_batch(5, training_data, training_label)\n",
    "# print(Xtr)\n",
    "# print(Ytr)"
   ]
  },
  {
   "cell_type": "markdown",
   "metadata": {},
   "source": [
    "DATA UNCHANGED\n",
    "\n",
    "We create an artificial neural network (ANN) model with 3 layers. \n",
    "\n",
    " Layer 1: 30 neurons and linear transfer function for the activation function.\n",
    "    \n",
    " Layer 2: 30 neurons and tanh function for the activation function. \n",
    " \n",
    " Layer 3: (output layer) 2 neurons and softmax for the activation function.\n",
    " \n",
    "\n",
    "For more on activation functions: https://www.tensorflow.org/api_docs/python/tf/nn"
   ]
  },
  {
   "cell_type": "markdown",
   "metadata": {},
   "source": [
    "We train the 3 layer Neural Network by: \n",
    "1. Initializing the weights and biases to be randomly selected from a normal distribution with mean zero and standard deviation 1\n",
    "2. Reshuffle the training data and pass through the 3 layers, then predict classes for each data point\n",
    "3. Backprop. using the Gradient Descent Optimizer, which heads in the direction of largest gradient to minimize cross-entropy loss\n",
    "4. Update the weights and biases\n",
    "5. Pass the testing data through, and make predictions, then compute the accuracy\n",
    "5. Repeat steps 2-5 for 1000 iterations.\n",
    "\n",
    "We test the data every 100 iterations using the testing data. "
   ]
  },
  {
   "cell_type": "code",
   "execution_count": 11,
   "metadata": {},
   "outputs": [
    {
     "name": "stdout",
     "output_type": "stream",
     "text": [
      "step 0, training accuracy 0.53\n",
      "test accuracy 0.366013\n",
      "step 50, training accuracy 0.672\n",
      "step 100, training accuracy 0.68\n",
      "test accuracy 0.503268\n",
      "step 150, training accuracy 0.68\n",
      "step 200, training accuracy 0.68\n",
      "test accuracy 0.503268\n",
      "step 250, training accuracy 0.682\n",
      "step 300, training accuracy 0.682\n",
      "test accuracy 0.503268\n",
      "step 350, training accuracy 0.676\n",
      "step 400, training accuracy 0.676\n",
      "test accuracy 0.503268\n",
      "step 450, training accuracy 0.682\n",
      "step 500, training accuracy 0.682\n",
      "test accuracy 0.503268\n",
      "step 550, training accuracy 0.682\n",
      "step 600, training accuracy 0.68\n",
      "test accuracy 0.542484\n",
      "step 650, training accuracy 0.68\n",
      "step 700, training accuracy 0.682\n",
      "test accuracy 0.54902\n",
      "step 750, training accuracy 0.684\n",
      "step 800, training accuracy 0.684\n",
      "test accuracy 0.54902\n",
      "step 850, training accuracy 0.688\n",
      "step 900, training accuracy 0.69\n",
      "test accuracy 0.54902\n",
      "step 950, training accuracy 0.69\n",
      "step 1000, training accuracy 0.692\n",
      "test accuracy 0.542484\n"
     ]
    }
   ],
   "source": [
    "#start an interactive session\n",
    "sess = tfc.InteractiveSession()\n",
    "\n",
    "#tf.enable_eager_execution()\n",
    "\n",
    "\n",
    "#placeholders for input images and 1 hot class vector\n",
    "#inputs are 1x15 feature vector\n",
    "#note that the shape is optional, but will allow us to catch bugs later\n",
    "x = tfc.placeholder(tfc.float32, shape=[None, 15])\n",
    "y_ = tfc.placeholder(tfc.float32, shape=[None, 2])\n",
    "\n",
    "\n",
    "#define weights and biases, initialized as zeros for first hidden layer with 30 nodes\n",
    "#note that the default is to save a variable as tf.float32\n",
    "W_layer1 = weight_variable([15,30])\n",
    "b_layer1 = bias_variable([30])\n",
    "\n",
    "\n",
    "#define the class predictions\n",
    "######## Activation relu \n",
    "h_layer1 = tfc.matmul(x,W_layer1) + b_layer1\n",
    "\n",
    "#define weights and biases, initialized as zeros for second layer \n",
    "#note that the default is to save a variable as tf.float32\n",
    "W_layer2 = weight_variable([30,30])\n",
    "b_layer2 = bias_variable([30])\n",
    "\n",
    "#define the class predictions\n",
    "######## Activation tanh\n",
    "h_layer2 = tfc.nn.tanh(tf.matmul(h_layer1,W_layer2) + b_layer2)\n",
    "\n",
    "#define weights and biases, initialized as zeros for second layer \n",
    "#note that the default is to save a variable as tf.float32\n",
    "W_layer3 = weight_variable([30,2])\n",
    "b_layer3 = bias_variable([2])\n",
    "\n",
    "#define the class predictions\n",
    "######## Activation softmax\n",
    "h_layer3 = tfc.nn.softmax(tfc.matmul(h_layer2,W_layer3) + b_layer3)\n",
    "\n",
    "#define the cross entropy loss\n",
    "#the cross entropy logits function applies a softmax on the model's unnormalized prediction and\n",
    "#sums across all classes\n",
    "#the reduce_mean function takes the average over the sums\n",
    "cross_entropy = tfc.reduce_mean(tfc.nn.softmax_cross_entropy_with_logits_v2(labels=y_, logits=h_layer3))\n",
    "\n",
    "#define a training step, which you will run later with the train_step.run command\n",
    "#train_step = tf.train.AdamOptimizer(1e-4).minimize(cross_entropy)\n",
    "train_step = tfc.train.GradientDescentOptimizer(learning_rate = 0.1).minimize(cross_entropy)\n",
    "\n",
    "# #define a true/false vector to evaluate predictions\n",
    "correct_prediction = tfc.equal(tfc.argmax(h_layer3,1), tfc.argmax(y_,1))\n",
    "\n",
    "# #recast the true/false vector as a binary vector and take the average\n",
    "accuracy = tfc.reduce_mean(tfc.cast(correct_prediction, tfc.float32))\n",
    "\n",
    "\n",
    "#add a tensorboard graph\n",
    "writer = tfc.summary.FileWriter('./nn_graph', sess.graph)\n",
    "# add a summary to store the accuracies\n",
    "training_summary=tfc.summary.scalar('train_acc', accuracy)\n",
    "testing_summary=tfc.summary.scalar('test_acc', accuracy)\n",
    "\n",
    "#initialize all variables\n",
    "sess.run(tfc.global_variables_initializer())\n",
    "#np.random.seed(1)\n",
    "\n",
    "train_accuracy = np.zeros(1001)\n",
    "test_accuracy = np.zeros(1001)\n",
    "\n",
    "#run 1000 iterations of SGD with batch size equal to 500\n",
    "for i in range(1001):\n",
    "    batch = next_batch(500, training_data , training_label)\n",
    "    \n",
    "    train_accuracy[i],summary = sess.run([accuracy,training_summary],feed_dict={x:batch[0], y_: batch[1]})\n",
    "    writer.add_summary(summary, i)\n",
    "    \n",
    "    test_accuracy[i],summary = sess.run([accuracy,testing_summary],feed_dict={x: test_data , y_: test_label})\n",
    "    writer.add_summary(summary, i)\n",
    "    \n",
    "    if i%50 == 0: #evaluate and print the training accuracy every 10 iterations\n",
    "        print(\"step %d, training accuracy %g\"%(i, train_accuracy[i]))\n",
    "    if i%100 == 0: #evaluate and print the testing accuracy every 100 iterations\n",
    "        print(\"test accuracy %g\"%accuracy.eval(feed_dict={x: test_data, y_: test_label}))\n",
    "\n",
    "    train_step.run(feed_dict={x: batch[0], y_: batch[1]})\n",
    "\n",
    "sess.close()"
   ]
  },
  {
   "cell_type": "code",
   "execution_count": 12,
   "metadata": {},
   "outputs": [
    {
     "data": {
      "text/plain": [
       "Text(0.5, 1.0, 'Un-normalized data accuracy')"
      ]
     },
     "execution_count": 12,
     "metadata": {},
     "output_type": "execute_result"
    },
    {
     "data": {
      "image/png": "[encoded data removed]",
      "text/plain": [
       "<Figure size 432x288 with 1 Axes>"
      ]
     },
     "metadata": {
      "needs_background": "light"
     },
     "output_type": "display_data"
    }
   ],
   "source": [
    "fig = plt.figure(figsize=(6,4))\n",
    "\n",
    "#plt.plot(accuracies)\n",
    "\n",
    "plt.plot( train_accuracy, '.b', label = 'training')\n",
    "plt.plot( test_accuracy, '.r', label = 'testing')\n",
    "\n",
    "axes = plt.gca()\n",
    "plt.legend(bbox_to_anchor=(1.04,1), loc=\"upper left\")\n",
    "axes.set_xlabel('EPOCH')\n",
    "axes.set_ylabel('accuracy')\n",
    "plt.title('Un-normalized data accuracy', fontsize = 16)"
   ]
  },
  {
   "cell_type": "markdown",
   "metadata": {},
   "source": [
    "DATA NORMALIZED"
   ]
  },
  {
   "cell_type": "code",
   "execution_count": 6,
   "metadata": {},
   "outputs": [],
   "source": [
    "norm = np.amax(training_data[0:500,:],axis=0)\n",
    "\n",
    "#normalize the data by the maximum value of each feature\n",
    "norm_training = np.zeros((500,15))\n",
    "norm_test = np.zeros((153,15))\n",
    "for j in range(15):\n",
    "    for i in range(500):\n",
    "        norm_training[i,j] = training_data[i,j]/norm[j]\n",
    "    for k in range(153):\n",
    "        norm_test[k,j] = test_data[k,j]/norm[j]"
   ]
  },
  {
   "cell_type": "markdown",
   "metadata": {},
   "source": [
    "Use same structure of ANN\n",
    "\n",
    "Train using normalized data"
   ]
  },
  {
   "cell_type": "code",
   "execution_count": 7,
   "metadata": {},
   "outputs": [
    {
     "name": "stdout",
     "output_type": "stream",
     "text": [
      "step 0, training accuracy 0.512\n",
      "test accuracy 0.281046\n",
      "step 50, training accuracy 0.524\n",
      "step 100, training accuracy 0.718\n",
      "test accuracy 0.48366\n",
      "step 150, training accuracy 0.792\n",
      "step 200, training accuracy 0.824\n",
      "test accuracy 0.620915\n",
      "step 250, training accuracy 0.852\n",
      "step 300, training accuracy 0.862\n",
      "test accuracy 0.647059\n",
      "step 350, training accuracy 0.88\n",
      "step 400, training accuracy 0.884\n",
      "test accuracy 0.647059\n",
      "step 450, training accuracy 0.888\n",
      "step 500, training accuracy 0.894\n",
      "test accuracy 0.666667\n",
      "step 550, training accuracy 0.896\n",
      "step 600, training accuracy 0.902\n",
      "test accuracy 0.660131\n",
      "step 650, training accuracy 0.904\n",
      "step 700, training accuracy 0.904\n",
      "test accuracy 0.660131\n",
      "step 750, training accuracy 0.904\n",
      "step 800, training accuracy 0.908\n",
      "test accuracy 0.660131\n",
      "step 850, training accuracy 0.908\n",
      "step 900, training accuracy 0.908\n",
      "test accuracy 0.660131\n",
      "step 950, training accuracy 0.908\n",
      "step 1000, training accuracy 0.908\n",
      "test accuracy 0.666667\n"
     ]
    }
   ],
   "source": [
    "# Activation functions: https://www.tensorflow.org/api_docs/python/tf/nn\n",
    "\n",
    "#start an interactive session\n",
    "sess = tfc.InteractiveSession()\n",
    "\n",
    "\n",
    "#placeholders for input images and 1 hot class vector\n",
    "#inputs are 1x15 feature vector\n",
    "#note that the shape is optional, but will allow us to catch bugs later\n",
    "x = tfc.placeholder(tfc.float32, shape=[None, 15])\n",
    "y_ = tfc.placeholder(tfc.float32, shape=[None, 2])\n",
    "\n",
    "\n",
    "#define weights and biases, initialized as zeros for first hidden layer with 30 nodes\n",
    "#note that the default is to save a variable as tf.float32\n",
    "W_layer1 = weight_variable([15,30])\n",
    "b_layer1 = bias_variable([30])\n",
    "\n",
    "#assign the initial values to all variables\n",
    "sess.run(tfc.global_variables_initializer())\n",
    "\n",
    "#define the class predictions\n",
    "######## Activation relu \n",
    "h_layer1 = tfc.matmul(x,W_layer1) + b_layer1\n",
    "\n",
    "#define weights and biases, initialized as zeros for second layer \n",
    "#note that the default is to save a variable as tf.float32\n",
    "W_layer2 = weight_variable([30,30])\n",
    "b_layer2 = bias_variable([30])\n",
    "\n",
    "#define the class predictions\n",
    "######## Activation tanh\n",
    "h_layer2 = tfc.nn.tanh(tfc.matmul(h_layer1,W_layer2) + b_layer2)\n",
    "\n",
    "#define weights and biases, initialized as zeros for second layer \n",
    "#note that the default is to save a variable as tf.float32\n",
    "W_layer3 = weight_variable([30,2])\n",
    "b_layer3 = bias_variable([2])\n",
    "\n",
    "#define the class predictions\n",
    "######## Activation softmax\n",
    "h_layer3 = tfc.nn.softmax(tfc.matmul(h_layer2,W_layer3) + b_layer3)\n",
    "\n",
    "\n",
    "#define the cross entropy loss\n",
    "#the cross entropy logits function applies a softmax on the model's unnormalized prediction and sums across all classes\n",
    "#the reduce_mean function takes the average over the sums\n",
    "cross_entropy = tfc.reduce_mean(tfc.nn.softmax_cross_entropy_with_logits_v2(labels=y_, logits=h_layer3))\n",
    "\n",
    "#define a training step, which you will run later with the train_step.run command\n",
    "#train_step = tf.train.AdamOptimizer(1e-4).minimize(cross_entropy)\n",
    "train_step = tfc.train.GradientDescentOptimizer(0.1).minimize(cross_entropy)\n",
    "\n",
    "#define a true/false vector to evaluate predictions\n",
    "correct_prediction = tfc.equal(tf.argmax(h_layer3,1), tf.argmax(y_,1))\n",
    "\n",
    "#recast the true/false vector as a binary vector and take the average\n",
    "accuracy = tfc.reduce_mean(tfc.cast(correct_prediction, tf.float32))\n",
    "\n",
    "#add a tensorboard graph\n",
    "writer = tfc.summary.FileWriter('./norm_nn_graph', sess.graph)\n",
    "# add a summary to store the accuracies\n",
    "training_summary=tfc.summary.scalar('train_acc', accuracy)\n",
    "testing_summary=tfc.summary.scalar('test_acc', accuracy)\n",
    "\n",
    "\n",
    "#initialize all variables\n",
    "sess.run(tfc.global_variables_initializer())\n",
    "np.random.seed(1)\n",
    "\n",
    "train_accuracy = np.zeros(1001)\n",
    "test_accuracy = np.zeros(1001)\n",
    "\n",
    "#run 1000 iterations of SGD with batch size equal to 500\n",
    "for i in range(1001):\n",
    "    batch = next_batch(500, norm_training, training_label)\n",
    "    \n",
    "    train_accuracy[i],summary = sess.run([accuracy,training_summary],feed_dict={x:batch[0], y_: batch[1]})\n",
    "    writer.add_summary(summary, i)\n",
    "    \n",
    "    test_accuracy[i],summary = sess.run([accuracy,testing_summary],feed_dict={x: norm_test, y_: test_label})\n",
    "    writer.add_summary(summary, i)\n",
    "    \n",
    "    if i%50 == 0: #evaluate and print the training accuracy every 10 iterations\n",
    "        print(\"step %d, training accuracy %g\"%(i, train_accuracy[i]))\n",
    "    if i%100 == 0: #evaluate and print the testing accuracy every 100 iterations\n",
    "        print(\"test accuracy %g\"%accuracy.eval(feed_dict={x: norm_test, y_: test_label}))\n",
    "\n",
    "    train_step.run(feed_dict={x: batch[0], y_: batch[1]})\n",
    "    \n",
    "sess.close()"
   ]
  },
  {
   "cell_type": "code",
   "execution_count": 8,
   "metadata": {},
   "outputs": [
    {
     "data": {
      "text/plain": [
       "Text(0.5, 1.0, 'Normalized data accuracy')"
      ]
     },
     "execution_count": 8,
     "metadata": {},
     "output_type": "execute_result"
    },
    {
     "data": {
      "image/png": "[encoded data removed]",
      "text/plain": [
       "<Figure size 432x288 with 1 Axes>"
      ]
     },
     "metadata": {
      "needs_background": "light"
     },
     "output_type": "display_data"
    }
   ],
   "source": [
    "fig = plt.figure(figsize=(6,4))\n",
    "\n",
    "#plt.plot(accuracies)\n",
    "\n",
    "plt.plot( train_accuracy, '.b', label = 'training')\n",
    "plt.plot( test_accuracy, '.r', label = 'testing')\n",
    "\n",
    "axes = plt.gca()\n",
    "plt.legend(bbox_to_anchor=(1.04,1), loc=\"upper left\")\n",
    "axes.set_xlabel('EPOCH')\n",
    "axes.set_ylabel('accuracy')\n",
    "plt.title('Normalized data accuracy', fontsize = 16)"
   ]
  },
  {
   "cell_type": "markdown",
   "metadata": {},
   "source": [
    "Compare the accuracy of the final iterations:\n",
    "\n",
    "Un-normalized, \n",
    "$$(\\% accuracy)_{train} = 69.2\\%$$\n",
    "$$(\\% accuracy)_{test} = 54.2\\%$$\n",
    "Normalized,\n",
    "$$(\\% accuracy)_{train} = 90.8\\%$$\n",
    "$$(\\% accuracy)_{test} = 66.6\\%$$\n",
    "We can observe that the normalized data has a much better percent accuracy than the un-normalized case. \n",
    "Additionally, from the Accuracy plots the updating of accuracies is a much smoother process with the normalized data. \n",
    "\n",
    "Recall with the Perceptron model on the same data, we had accuracies of:\n",
    "\n",
    "Un-normalized, \n",
    "$$(\\% accuracy)_{train} = 64.8\\%$$\n",
    "$$(\\% accuracy)_{test} = 68.0\\%$$\n",
    "Normalized,\n",
    "$$(\\% accuracy)_{train} = 77.0\\%$$\n",
    "$$(\\% accuracy)_{test} = 81.7\\%$$\n",
    "So we observe that in both cases, the training accuracies have increased by using a Neural Network. Although, now the testing accuracies have decreased, and are lower than the training accuracy. Because they are close, it's a good sign that we're not overfitting the data. In other words, we can apply our network to new data the network hasn't seen before, and it will perform fairly well. "
   ]
  },
  {
   "cell_type": "code",
   "execution_count": null,
   "metadata": {},
   "outputs": [],
   "source": []
  }
 ],
 "metadata": {
  "kernelspec": {
   "display_name": "Python 3 (ipykernel)",
   "language": "python",
   "name": "python3"
  },
  "language_info": {
   "codemirror_mode": {
    "name": "ipython",
    "version": 3
   },
   "file_extension": ".py",
   "mimetype": "text/x-python",
   "name": "python",
   "nbconvert_exporter": "python",
   "pygments_lexer": "ipython3",
   "version": "3.9.7"
  }
 },
 "nbformat": 4,
 "nbformat_minor": 2
}
