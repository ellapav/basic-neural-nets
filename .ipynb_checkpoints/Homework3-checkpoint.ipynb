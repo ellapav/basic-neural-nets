{
 "cells": [
  {
   "cell_type": "code",
   "execution_count": 17,
   "metadata": {},
   "outputs": [],
   "source": [
    "import tensorflow as tf\n",
    "import tensorflow.compat.v1 as tfc # needed if using Tensorflow v2, then tfc is v1\n",
    "import matplotlib\n",
    "import matplotlib.pyplot as plt\n",
    "import sklearn\n",
    "from scipy.optimize import minimize\n",
    "import numpy"
   ]
  },
  {
   "cell_type": "markdown",
   "metadata": {},
   "source": [
    "We consider the data of people applying for credit cards, and a banker has placed them in one of the following categories:\n",
    "\n",
    "    Approved (1)\n",
    "    \n",
    "    Denied (-1)\n",
    "    \n",
    "Each data point has 16 associated features (found in credit_data.csv) and a corresponding label (found in credit_label.csv).\n",
    "(# data = m = 653, # features = n = 16)\n",
    "\n",
    "We consider the data for two cases: data is unchanged, and data is normalized by the maximum value of each feature. "
   ]
  },
  {
   "cell_type": "code",
   "execution_count": 14,
   "metadata": {},
   "outputs": [],
   "source": [
    "# Import data\n",
    "# https://realpython.com/python-csv/\n",
    "credit_data = np.loadtxt(open(\"credit_data.csv\", \"rb\"), delimiter=\",\", skiprows=1)\n",
    "credit_label = np.loadtxt(open(\"credit_label.csv\", \"rb\"), delimiter=\",\", skiprows=1)\n",
    "\n",
    "training_data = credit_data[0:500, :]\n",
    "#make one-hot labels (i.e. approved ~ [1,0], denied ~ [0,1])\n",
    "training_label = np.zeros([500,2])\n",
    "for i in range(500):\n",
    "    if credit_label[i]==1:\n",
    "        training_label[i] = np.array([1,0])\n",
    "    else:\n",
    "        training_label[i] = np.array([0,1])\n",
    "\n",
    "test_data = credit_data[500:653, :]\n",
    "#make one-hot labels (i.e. approved ~ [1,0], denied ~ [0,1])\n",
    "test_label = np.zeros([153,2])\n",
    "for i in range(153):\n",
    "    if credit_label[i]==1:\n",
    "        test_label[i] = np.array([1,0])\n",
    "    else:\n",
    "        test_label[i] = np.array([0,1])\n"
   ]
  },
  {
   "cell_type": "markdown",
   "metadata": {},
   "source": [
    "Functions we'll need:"
   ]
  },
  {
   "cell_type": "code",
   "execution_count": 15,
   "metadata": {},
   "outputs": [],
   "source": [
    "#define functions that initialize weights and biases, with slightly positive initial bias to break symmetry\n",
    "def weight_variable(shape):\n",
    "    initial = tf.random_normal(shape=shape, mean=0.0, stddev=1.0)\n",
    "    return tf.Variable(initial)\n",
    "\n",
    "def bias_variable(neurons):\n",
    "    initial = tf.random_normal(shape = neurons, mean = 0.0, stddev = 1.0)\n",
    "    return tf.Variable(initial)\n",
    "\n",
    "# https://stackoverflow.com/questions/40994583/how-to-implement-tensorflows-next-batch-for-own-data\n",
    "# Return a total of `num` random samples and labels. \n",
    "# makes sure Net isn't dependent on ordering of points\n",
    "def next_batch(num, data, labels):\n",
    "    idx = np.arange(0 , np.shape(data)[0])\n",
    "    np.random.shuffle(idx)\n",
    "    idx = idx[:num]\n",
    "    data_shuffle = [data[i,:] for i in idx]\n",
    "    labels_shuffle = [labels[i,:] for i in idx]\n",
    "    \n",
    "    return np.asarray(data_shuffle), np.asarray(labels_shuffle)\n",
    "\n",
    "\n",
    "# # Choose 5 random samples\n",
    "# Xtr, Ytr = next_batch(5, training_data, training_label)\n",
    "# print(Xtr)\n",
    "# print(Ytr)"
   ]
  },
  {
   "cell_type": "markdown",
   "metadata": {},
   "source": [
    "DATA UNCHANGED\n",
    "\n",
    "We create an artificial neural network (ANN) model with 3 layers. \n",
    "\n",
    " Layer 1: 30 neurons and linear transfer function for the activation function.\n",
    "    \n",
    " Layer 2: 30 neurons and tanh function for the activation function. \n",
    " \n",
    " Layer 3: (output layer) 2 neurons and softmax for the activation function.\n",
    " \n",
    " \n",
    "\n",
    "Train the network & test on the data every 100 iterations\n",
    "\n",
    "\n",
    "\n",
    "For more on activation functions: https://www.tensorflow.org/api_docs/python/tf/nn"
   ]
  },
  {
   "cell_type": "code",
   "execution_count": 21,
   "metadata": {},
   "outputs": [
    {
     "ename": "AttributeError",
     "evalue": "module 'tensorflow' has no attribute 'enable_eager_execution'",
     "output_type": "error",
     "traceback": [
      "\u001b[0;31m---------------------------------------------------------------------------\u001b[0m",
      "\u001b[0;31mAttributeError\u001b[0m                            Traceback (most recent call last)",
      "\u001b[0;32m/var/folders/jh/bq8mb2c12dqcfcjjxp8y1b380000gp/T/ipykernel_8793/624135249.py\u001b[0m in \u001b[0;36m<module>\u001b[0;34m\u001b[0m\n\u001b[1;32m      1\u001b[0m \u001b[0;31m#start an interactive session\u001b[0m\u001b[0;34m\u001b[0m\u001b[0;34m\u001b[0m\u001b[0m\n\u001b[1;32m      2\u001b[0m \u001b[0msess\u001b[0m \u001b[0;34m=\u001b[0m \u001b[0mtfc\u001b[0m\u001b[0;34m.\u001b[0m\u001b[0mInteractiveSession\u001b[0m\u001b[0;34m(\u001b[0m\u001b[0;34m)\u001b[0m\u001b[0;34m\u001b[0m\u001b[0;34m\u001b[0m\u001b[0m\n\u001b[0;32m----> 3\u001b[0;31m \u001b[0mtf\u001b[0m\u001b[0;34m.\u001b[0m\u001b[0menable_eager_execution\u001b[0m\u001b[0;34m(\u001b[0m\u001b[0;34m)\u001b[0m\u001b[0;34m\u001b[0m\u001b[0;34m\u001b[0m\u001b[0m\n\u001b[0m\u001b[1;32m      4\u001b[0m \u001b[0;34m\u001b[0m\u001b[0m\n\u001b[1;32m      5\u001b[0m \u001b[0;34m\u001b[0m\u001b[0m\n",
      "\u001b[0;31mAttributeError\u001b[0m: module 'tensorflow' has no attribute 'enable_eager_execution'"
     ]
    }
   ],
   "source": [
    "#start an interactive session\n",
    "sess = tfc.InteractiveSession()\n",
    "\n",
    "#tf.enable_eager_execution()\n",
    "\n",
    "\n",
    "#placeholders for input images and 1 hot class vector\n",
    "#inputs are 1x15 feature vector\n",
    "#note that the shape is optional, but will allow us to catch bugs later\n",
    "x = tfc.placeholder(tfc.float32, shape=[None, 15])\n",
    "y_ = tfc.placeholder(tfc.float32, shape=[None, 2])\n",
    "\n",
    "\n",
    "#define weights and biases, initialized as zeros for first hidden layer with 30 nodes\n",
    "#note that the default is to save a variable as tf.float32\n",
    "W_layer1 = weight_variable([15,30])\n",
    "b_layer1 = bias_variable([30])\n",
    "\n",
    "\n",
    "#define the class predictions\n",
    "######## Activation relu \n",
    "h_layer1 = tf.matmul(x,W_layer1) + b_layer1\n",
    "\n",
    "#define weights and biases, initialized as zeros for second layer \n",
    "#note that the default is to save a variable as tf.float32\n",
    "W_layer2 = weight_variable([30,30])\n",
    "b_layer2 = bias_variable([30])\n",
    "\n",
    "#define the class predictions\n",
    "######## Activation tanh\n",
    "h_layer2 = tf.nn.tanh(tf.matmul(h_layer1,W_layer2) + b_layer2)\n",
    "\n",
    "#define weights and biases, initialized as zeros for second layer \n",
    "#note that the default is to save a variable as tf.float32\n",
    "W_layer3 = weight_variable([30,2])\n",
    "b_layer3 = bias_variable([2])\n",
    "\n",
    "#define the class predictions\n",
    "######## Activation softmax\n",
    "h_layer3 = tf.nn.softmax(tfc.matmul(h_layer2,W_layer3) + b_layer3)\n",
    "\n",
    "#define the cross entropy loss\n",
    "#the cross entropy logits function applies a softmax on the model's unnormalized prediction and\n",
    "#sums across all classes\n",
    "#the reduce_mean function takes the average over the sums\n",
    "cross_entropy = tf.reduce_mean(tfc.nn.softmax_cross_entropy_with_logits_v2(labels=y_, logits=h_layer3))\n",
    "\n",
    "#define a training step, which you will run later with the train_step.run command\n",
    "#train_step = tf.train.AdamOptimizer(1e-4).minimize(cross_entropy)\n",
    "train_step = tf.train.GradientDescentOptimizer(learning_rate = 0.1).minimize(cross_entropy)\n",
    "\n",
    "# #define a true/false vector to evaluate predictions\n",
    "correct_prediction = tf.equal(tfc.argmax(h_layer3,1), tf.argmax(y_,1))\n",
    "\n",
    "# #recast the true/false vector as a binary vector and take the average\n",
    "accuracy = tf.reduce_mean(tf.cast(correct_prediction, tf.float32))\n",
    "\n",
    "\n",
    "#add a tensorboard graph\n",
    "writer = tf.summary.FileWriter('./HW3_nn_graph', sess.graph)\n",
    "# add a summary to store the accuracies\n",
    "training_summary=tf.summary.scalar('train_acc', accuracy)\n",
    "testing_summary=tf.summary.scalar('test_acc', accuracy)\n",
    "\n",
    "#initialize all variables\n",
    "sess.run(tf.global_variables_initializer())\n",
    "#np.random.seed(1)\n",
    "\n",
    "train_accuracy = np.zeros(1001)\n",
    "test_accuracy = np.zeros(1001)\n",
    "\n",
    "#run 1000 iterations of SGD with batch size equal to 500\n",
    "for i in range(1001):\n",
    "    batch = next_batch(500, training_data , training_label)\n",
    "    \n",
    "    train_accuracy[i],summary = sess.run([accuracy,training_summary],feed_dict={x:batch[0], y_: batch[1]})\n",
    "    writer.add_summary(summary, i)\n",
    "    \n",
    "    test_accuracy[i],summary = sess.run([accuracy,testing_summary],feed_dict={x: test_data , y_: test_label})\n",
    "    writer.add_summary(summary, i)\n",
    "    \n",
    "    if i%50 == 0: #evaluate and print the training accuracy every 10 iterations\n",
    "        print(\"step %d, training accuracy %g\"%(i, train_accuracy[i]))\n",
    "    if i%100 == 0: #evaluate and print the testing accuracy every 100 iterations\n",
    "        print(\"test accuracy %g\"%accuracy.eval(feed_dict={x: test_data, y_: test_label}))\n",
    "\n",
    "    train_step.run(feed_dict={x: batch[0], y_: batch[1]})\n",
    "\n",
    "sess.close()"
   ]
  },
  {
   "cell_type": "code",
   "execution_count": 9,
   "metadata": {},
   "outputs": [
    {
     "data": {
      "text/plain": [
       "Text(0.5, 1.0, 'Un-normalized data accuracy')"
      ]
     },
     "execution_count": 9,
     "metadata": {},
     "output_type": "execute_result"
    },
    {
     "data": {
      "image/png": "[encoded data removed]",
      "text/plain": [
       "<Figure size 432x288 with 1 Axes>"
      ]
     },
     "metadata": {
      "needs_background": "light"
     },
     "output_type": "display_data"
    }
   ],
   "source": [
    "fig = plt.figure(figsize=(6,4))\n",
    "\n",
    "#plt.plot(accuracies)\n",
    "\n",
    "plt.plot( train_accuracy, '.b', label = 'training')\n",
    "plt.plot( test_accuracy, '.r', label = 'testing')\n",
    "\n",
    "axes = plt.gca()\n",
    "plt.legend(bbox_to_anchor=(1.04,1), loc=\"upper left\")\n",
    "axes.set_xlabel('EPOCH')\n",
    "axes.set_ylabel('accuracy')\n",
    "plt.title('Un-normalized data accuracy', fontsize = 16)"
   ]
  },
  {
   "cell_type": "markdown",
   "metadata": {},
   "source": [
    "DATA NORMALIZED"
   ]
  },
  {
   "cell_type": "code",
   "execution_count": 10,
   "metadata": {},
   "outputs": [],
   "source": [
    "norm = np.amax(training_data[0:500,:],axis=0)\n",
    "\n",
    "norm_training = np.zeros((500,15))\n",
    "norm_test = np.zeros((153,15))\n",
    "for j in range(15):\n",
    "    for i in range(500):\n",
    "        norm_training[i,j] = training_data[i,j]/norm[j]\n",
    "    for k in range(153):\n",
    "        norm_test[k,j] = test_data[k,j]/norm[j]"
   ]
  },
  {
   "cell_type": "markdown",
   "metadata": {},
   "source": [
    "Use same structure of ANN\n",
    "\n",
    "Train using normalized data"
   ]
  },
  {
   "cell_type": "code",
   "execution_count": 11,
   "metadata": {},
   "outputs": [
    {
     "name": "stderr",
     "output_type": "stream",
     "text": [
      "//anaconda3/envs/tf/lib/python3.7/site-packages/tensorflow/python/client/session.py:1735: UserWarning: An interactive session is already active. This can cause out-of-memory errors in some cases. You must explicitly call `InteractiveSession.close()` to release resources held by the other session(s).\n",
      "  warnings.warn('An interactive session is already active. This can '\n"
     ]
    },
    {
     "name": "stdout",
     "output_type": "stream",
     "text": [
      "step 0, training accuracy 0.474\n",
      "test accuracy 0.69281\n",
      "step 50, training accuracy 0.726\n",
      "step 100, training accuracy 0.776\n",
      "test accuracy 0.529412\n",
      "step 150, training accuracy 0.794\n",
      "step 200, training accuracy 0.806\n",
      "test accuracy 0.529412\n",
      "step 250, training accuracy 0.824\n",
      "step 300, training accuracy 0.838\n",
      "test accuracy 0.575163\n",
      "step 350, training accuracy 0.85\n",
      "step 400, training accuracy 0.854\n",
      "test accuracy 0.607843\n",
      "step 450, training accuracy 0.866\n",
      "step 500, training accuracy 0.878\n",
      "test accuracy 0.640523\n",
      "step 550, training accuracy 0.88\n",
      "step 600, training accuracy 0.882\n",
      "test accuracy 0.640523\n",
      "step 650, training accuracy 0.89\n",
      "step 700, training accuracy 0.89\n",
      "test accuracy 0.647059\n",
      "step 750, training accuracy 0.896\n",
      "step 800, training accuracy 0.898\n",
      "test accuracy 0.660131\n",
      "step 850, training accuracy 0.9\n",
      "step 900, training accuracy 0.904\n",
      "test accuracy 0.673203\n",
      "step 950, training accuracy 0.906\n",
      "step 1000, training accuracy 0.908\n",
      "test accuracy 0.673203\n"
     ]
    }
   ],
   "source": [
    "# Activation functions: https://www.tensorflow.org/api_docs/python/tf/nn\n",
    "\n",
    "#start an interactive session\n",
    "sess = tf.InteractiveSession()\n",
    "\n",
    "\n",
    "#placeholders for input images and 1 hot class vector\n",
    "#inputs are 1x15 feature vector\n",
    "#note that the shape is optional, but will allow us to catch bugs later\n",
    "x = tf.placeholder(tf.float32, shape=[None, 15])\n",
    "y_ = tf.placeholder(tf.float32, shape=[None, 2])\n",
    "\n",
    "\n",
    "#define weights and biases, initialized as zeros for first hidden layer with 30 nodes\n",
    "#note that the default is to save a variable as tf.float32\n",
    "W_layer1 = weight_variable([15,30])\n",
    "b_layer1 = bias_variable([30])\n",
    "\n",
    "#assign the initial values to all variables\n",
    "sess.run(tf.global_variables_initializer())\n",
    "\n",
    "#define the class predictions\n",
    "######## Activation relu \n",
    "h_layer1 = tf.matmul(x,W_layer1) + b_layer1\n",
    "\n",
    "#define weights and biases, initialized as zeros for second layer \n",
    "#note that the default is to save a variable as tf.float32\n",
    "W_layer2 = weight_variable([30,30])\n",
    "b_layer2 = bias_variable([30])\n",
    "\n",
    "#define the class predictions\n",
    "######## Activation tanh\n",
    "h_layer2 = tf.nn.tanh(tf.matmul(h_layer1,W_layer2) + b_layer2)\n",
    "\n",
    "#define weights and biases, initialized as zeros for second layer \n",
    "#note that the default is to save a variable as tf.float32\n",
    "W_layer3 = weight_variable([30,2])\n",
    "b_layer3 = bias_variable([2])\n",
    "\n",
    "#define the class predictions\n",
    "######## Activation softmax\n",
    "h_layer3 = tf.nn.softmax(tf.matmul(h_layer2,W_layer3) + b_layer3)\n",
    "\n",
    "\n",
    "#define the cross entropy loss\n",
    "#the cross entropy logits function applies a softmax on the model's unnormalized prediction and sums across all classes\n",
    "#the reduce_mean function takes the average over the sums\n",
    "cross_entropy = tf.reduce_mean(tf.nn.softmax_cross_entropy_with_logits_v2(labels=y_, logits=h_layer3))\n",
    "\n",
    "#define a training step, which you will run later with the train_step.run command\n",
    "#train_step = tf.train.AdamOptimizer(1e-4).minimize(cross_entropy)\n",
    "train_step = tf.train.GradientDescentOptimizer(0.1).minimize(cross_entropy)\n",
    "\n",
    "#define a true/false vector to evaluate predictions\n",
    "correct_prediction = tf.equal(tf.argmax(h_layer3,1), tf.argmax(y_,1))\n",
    "\n",
    "#recast the true/false vector as a binary vector and take the average\n",
    "accuracy = tf.reduce_mean(tf.cast(correct_prediction, tf.float32))\n",
    "\n",
    "#add a tensorboard graph\n",
    "writer = tf.summary.FileWriter('./HW3norm_nn_graph', sess.graph)\n",
    "# add a summary to store the accuracies\n",
    "training_summary=tf.summary.scalar('train_acc', accuracy)\n",
    "testing_summary=tf.summary.scalar('test_acc', accuracy)\n",
    "\n",
    "\n",
    "#initialize all variables\n",
    "sess.run(tf.global_variables_initializer())\n",
    "np.random.seed(1)\n",
    "\n",
    "train_accuracy = np.zeros(1001)\n",
    "test_accuracy = np.zeros(1001)\n",
    "\n",
    "#run 1000 iterations of SGD with batch size equal to 500\n",
    "for i in range(1001):\n",
    "    batch = next_batch(500, norm_training, training_label)\n",
    "    \n",
    "    train_accuracy[i],summary = sess.run([accuracy,training_summary],feed_dict={x:batch[0], y_: batch[1]})\n",
    "    writer.add_summary(summary, i)\n",
    "    \n",
    "    test_accuracy[i],summary = sess.run([accuracy,testing_summary],feed_dict={x: norm_test, y_: test_label})\n",
    "    writer.add_summary(summary, i)\n",
    "    \n",
    "    if i%50 == 0: #evaluate and print the training accuracy every 10 iterations\n",
    "        print(\"step %d, training accuracy %g\"%(i, train_accuracy[i]))\n",
    "    if i%100 == 0: #evaluate and print the testing accuracy every 100 iterations\n",
    "        print(\"test accuracy %g\"%accuracy.eval(feed_dict={x: norm_test, y_: test_label}))\n",
    "\n",
    "    train_step.run(feed_dict={x: batch[0], y_: batch[1]})\n",
    "    \n",
    "sess.close()\n",
    "\n",
    "# HW 2 training error: 23.6 => training accuracy: 76.4\n",
    "# HW 2 test error: 18.3     =>  testing accuracy: 81.7"
   ]
  },
  {
   "cell_type": "code",
   "execution_count": 12,
   "metadata": {},
   "outputs": [
    {
     "data": {
      "text/plain": [
       "Text(0.5, 1.0, 'Normalized data accuracy')"
      ]
     },
     "execution_count": 12,
     "metadata": {},
     "output_type": "execute_result"
    },
    {
     "data": {
      "image/png": "[encoded data removed]",
      "text/plain": [
       "<Figure size 432x288 with 1 Axes>"
      ]
     },
     "metadata": {
      "needs_background": "light"
     },
     "output_type": "display_data"
    }
   ],
   "source": [
    "fig = plt.figure(figsize=(6,4))\n",
    "\n",
    "#plt.plot(accuracies)\n",
    "\n",
    "plt.plot( train_accuracy, '.b', label = 'training')\n",
    "plt.plot( test_accuracy, '.r', label = 'testing')\n",
    "\n",
    "axes = plt.gca()\n",
    "plt.legend(bbox_to_anchor=(1.04,1), loc=\"upper left\")\n",
    "axes.set_xlabel('EPOCH')\n",
    "axes.set_ylabel('accuracy')\n",
    "plt.title('Normalized data accuracy', fontsize = 16)"
   ]
  },
  {
   "cell_type": "markdown",
   "metadata": {},
   "source": [
    "# Problem 2"
   ]
  },
  {
   "cell_type": "markdown",
   "metadata": {},
   "source": [
    "A: plot and observe data is seperable\n",
    "\n",
    "A i) Construct by inspection the weight vector ~w and the bias b for the optimal hyperplane\n",
    "from the support vector machine (SVM) model. What are the support vectors?"
   ]
  },
  {
   "cell_type": "code",
   "execution_count": 13,
   "metadata": {},
   "outputs": [
    {
     "data": {
      "text/plain": [
       "Text(0.5, 1.0, 'Scatter-plot of the Data')"
      ]
     },
     "execution_count": 13,
     "metadata": {},
     "output_type": "execute_result"
    },
    {
     "data": {
      "image/png": "[encoded data removed]",
      "text/plain": [
       "<Figure size 288x288 with 1 Axes>"
      ]
     },
     "metadata": {
      "needs_background": "light"
     },
     "output_type": "display_data"
    }
   ],
   "source": [
    "## plot the data with original line\n",
    "C = np.array([[1,3,1],[2,3,1],[2,4,1],[3,1,-1],[3,2,-1],[4,2,-1]]) #one row of C is: x, y, label\n",
    "label = C[:,2]\n",
    "\n",
    "fig = plt.figure(figsize=(4,4))\n",
    "\n",
    "plt.scatter(C[label==1,0],C[label==1,1],marker = \"*\",color = 'k')\n",
    "plt.scatter(C[label==-1,0],C[label==-1,1],marker = \"x\",color ='k')\n",
    "\n",
    "x = np.linspace(-0.1,4.1,100)\n",
    "w = np.array([0,1,-1])\n",
    "y = (-w[0] - w[1] * x)/w[2]\n",
    "plt.plot(x, y, '-r', label='weight = [-1,1]')\n",
    "axes = plt.gca()\n",
    "axes.set_ylim([-0.1,4.1])\n",
    "axes.set_xlim([-0.1,4.1])\n",
    "plt.legend(bbox_to_anchor=(1.04,1), loc=\"upper left\")\n",
    "axes.set_xlabel('$x_1$')\n",
    "axes.set_ylabel('$x_2$')\n",
    "plt.title('Scatter-plot of the Data', fontsize = 16)"
   ]
  },
  {
   "cell_type": "markdown",
   "metadata": {},
   "source": [
    "A\n",
    "ii) Find the SVM model by solving the corresponding quadratic programming problem\n",
    "in the dual Lagrangian formulation. Show that the SVM solution is the same as those\n",
    "obtained in part i). "
   ]
  },
  {
   "cell_type": "code",
   "execution_count": 14,
   "metadata": {},
   "outputs": [
    {
     "name": "stdout",
     "output_type": "stream",
     "text": [
      "[-0.  1. -0. -0.  1.  0.]\n",
      "[-1.  1.] [-1.0, 0.0, -1.0, 1.0, -0.0, 1.0]\n"
     ]
    }
   ],
   "source": [
    "# https://anaconda.org/omnia/quadprog\n",
    "# https://scaron.info/blog/quadratic-programming-in-python.html\n",
    "# troubleshooting: https://github.com/facebookresearch/GradientEpisodicMemory/issues/2\n",
    "# troubleshooting: https://github.com/rmcgibbo/quadprog/blob/master/quadprog/quadprog.pyx\n",
    "import quadprog\n",
    "\n",
    "#converts standard form quadratic program into form quadprog will evaluate\n",
    "def quadprog_solve_qp(P, q, G=None, h=None, A=None, b=None):\n",
    "    qp_P = .5 * (P + P.T) + (1e-3)*np.eye(P.shape[0])  # make sure P is positive definite\n",
    "    qp_q = -q\n",
    "    if A is not None: #equality constraint present\n",
    "        qp_C = -np.vstack([A, G]).T\n",
    "        qp_b = np.reshape(-np.vstack([b, h]).T,(12))\n",
    "        meq = int(A.shape[0]) # number of equality constraints\n",
    "    else:  # no equality constraint present\n",
    "        qp_C = -G.T\n",
    "        qp_b = -h\n",
    "        meq = 0\n",
    "    return quadprog.solve_qp(qp_P, qp_q, qp_C, qp_b, meq)[0]\n",
    "\n",
    "#the input matrices for SVM in standard form\n",
    "Q = np.zeros([6,6])\n",
    "for i in range(0,6):\n",
    "    for j in range(0,6):\n",
    "        Q[i,j] = (label[i] * label[j])*(C[i,0:2]@C[j,0:2])\n",
    "\n",
    "q = np.ones(6)\n",
    "G = np.eye(6)\n",
    "h = np.zeros([6,1])\n",
    "A = np.zeros([6,6])\n",
    "A[0,:] = label.T\n",
    "b = np.zeros([6,1])\n",
    "\n",
    "L = np.round(quadprog_solve_qp(Q, q, G, h, A, b),2)\n",
    "print(-L)\n",
    "\n",
    "W = [-L[i] * label[i] * C[i,0:2] for i in range(6)]\n",
    "w = np.array([sum(W[j][0] for j in range(6)), sum(W[j][1] for j in range(6))])\n",
    "\n",
    "b = [(1 - label[k]*(w@C[k,0:2]))/(label[k]) for k in range(6)]\n",
    "print(w, b)\n"
   ]
  },
  {
   "cell_type": "markdown",
   "metadata": {},
   "source": [
    "B: Find the separating hyperplane by using the Linear Discriminant Analysis (LDA) model.\n",
    "For this training data set, is the LDA hyperplane the same as the SVM hyperplane?"
   ]
  },
  {
   "cell_type": "code",
   "execution_count": 15,
   "metadata": {},
   "outputs": [
    {
     "name": "stdout",
     "output_type": "stream",
     "text": [
      "[-1.66666667  1.66666667] \n",
      " 0.0\n"
     ]
    }
   ],
   "source": [
    "n1 = 3\n",
    "mu1 = np.average([C[i,0:2] for i in range(n1)],axis = 0)\n",
    "cov1 = (1/(n1-1))*sum(np.outer((C[i,0:2]-mu1),(C[i,0:2]-mu1)) for i in range(n1))\n",
    "\n",
    "n2 = 3\n",
    "mu2 = np.average([C[i,0:2] for i in range(n1,n1+n2)],axis = 0)\n",
    "cov2 = (1/(n2-1))*sum(np.outer((C[i,0:2]-mu2),(C[i,0:2]-mu2)) for i in range(n1,n1+n2))\n",
    "\n",
    "R = np.transpose(np.linalg.cholesky(n1*cov1+n2*cov2))\n",
    "#print(R)\n",
    "\n",
    "w = np.linalg.inv(np.transpose(R)@R)@(mu1-mu2)\n",
    "b = np.round((1/6)*sum((label[i] - w@C[i,0:2]) for i in range(n1+n2)),3)\n",
    "\n",
    "print(w,'\\n',b)"
   ]
  },
  {
   "cell_type": "code",
   "execution_count": null,
   "metadata": {},
   "outputs": [],
   "source": []
  }
 ],
 "metadata": {
  "kernelspec": {
   "display_name": "Python 3 (ipykernel)",
   "language": "python",
   "name": "python3"
  },
  "language_info": {
   "codemirror_mode": {
    "name": "ipython",
    "version": 3
   },
   "file_extension": ".py",
   "mimetype": "text/x-python",
   "name": "python",
   "nbconvert_exporter": "python",
   "pygments_lexer": "ipython3",
   "version": "3.9.7"
  }
 },
 "nbformat": 4,
 "nbformat_minor": 2
}
